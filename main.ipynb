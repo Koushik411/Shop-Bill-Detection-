{
  "nbformat": 4,
  "nbformat_minor": 0,
  "metadata": {
    "colab": {
      "provenance": []
    },
    "kernelspec": {
      "name": "python3",
      "display_name": "Python 3"
    },
    "language_info": {
      "name": "python"
    }
  },
  "cells": [
    {
      "cell_type": "code",
      "execution_count": null,
      "metadata": {
        "id": "xPVxk6n8PXSM"
      },
      "outputs": [],
      "source": [
        "# !pip install opencv-python\n",
        "# !pip install imutils\n",
        "# !pip install blurhash-python\n",
        "# !pip install numpy --upgrade\n",
        "# !pip install pytesseract\n",
        "# !pip install tesseract-ocr"
      ]
    },
    {
      "cell_type": "code",
      "source": [
        "import os \n",
        "import numpy as np\n",
        "import cv2\n",
        "import imutils\n",
        "import blurhash\n",
        "from PIL import Image\n",
        "import pytesseract\n",
        "import argparse\n",
        "import pandas as pd\n",
        "import seaborn as sns\n",
        "import matplotlib.pyplot as plt\n",
        "import csv\n",
        "import nltk\n",
        "import re\n",
        "from nltk.tokenize import word_tokenize\n",
        "from nltk.corpus import wordnet"
      ],
      "metadata": {
        "id": "nLd-_6swRKo3"
      },
      "execution_count": null,
      "outputs": []
    },
    {
      "cell_type": "code",
      "source": [
        "FILES_DIR = \"/content/\"\n",
        "\n",
        "def read_image(input_image):\n",
        "    try:\n",
        "        image = cv2.imread(input_image)\n",
        "    except AttributeError: \n",
        "        print(f\"Your input file '{input_image}' doesn't seems to be a valid.\")\n",
        "    except:\n",
        "        print(\"Unknown error, sorry.\")\n",
        "        \n",
        "    return image\n",
        "    \n",
        "def show_image_opencv(image_instance, name=\"Bill\"):\n",
        "    try:\n",
        "        cv2.imshow(name, image_instance)\n",
        "        cv2.waitKey(0)\n",
        "        cv2.destroyAllWindows()\n",
        "    except:\n",
        "        print(\"Unknown error, sorry.\")\n",
        "\n",
        "def save_image_opencv(image_instance, target_name=os.path.join(FILES_DIR, \"result.jpg\")):\n",
        "    \n",
        "    try:\n",
        "        cv2.imwrite(target_name, image_instance)\n",
        "    except:\n",
        "        print(f\"Unknown error, sorry. Your provided instance: {image_instance} with target: {target_name}\")\n",
        "    \n",
        "\n",
        "input_image = read_image(os.path.join(FILES_DIR, \"/content/cap4.jpeg\"))\n",
        "original_image = input_image.copy()\n",
        "\n",
        "save_image_opencv(input_image, os.path.join(FILES_DIR, \"input_image.png\"))"
      ],
      "metadata": {
        "id": "P6o-LAKRRbdg"
      },
      "execution_count": null,
      "outputs": []
    },
    {
      "cell_type": "code",
      "source": [
        "def detect_edges(input_image):\n",
        "    gray_image = cv2.cvtColor(input_image, cv2.COLOR_BGR2GRAY)\n",
        "    gray_image_blured = cv2.blur(gray_image, (3, 3))\n",
        "    edged_image = cv2.Canny(gray_image_blured, 100, 400, 3)\n",
        "\n",
        "    return edged_image\n",
        "\n",
        "edged_image = detect_edges(input_image)\n",
        "\n",
        "save_image_opencv(edged_image, os.path.join(FILES_DIR, \"edged_image2.png\"))\n"
      ],
      "metadata": {
        "id": "D9H9H0dcXwc9"
      },
      "execution_count": null,
      "outputs": []
    },
    {
      "cell_type": "code",
      "source": [
        "def calculate_draw_contours(edged_image, target_image): \n",
        "    all_contours = cv2.findContours(edged_image.copy(), cv2.RETR_LIST, cv2.CHAIN_APPROX_SIMPLE)\n",
        "    all_contours = imutils.grab_contours(all_contours)\n",
        "    all_contours = sorted(all_contours, key=cv2.contourArea, reverse=True)[:1]\n",
        "    contour_perimeter = cv2.arcLength(all_contours[0], True) \n",
        "    approximated_poly = cv2.approxPolyDP(all_contours[0], 0.02 * contour_perimeter, True)\n",
        "    cv2.drawContours(target_image, [approximated_poly], -1, (0,255,0), 2)\n",
        "    \n",
        "    return approximated_poly, contour_perimeter\n",
        "\n",
        "\n",
        "approximated_poly, contour_perimeter = calculate_draw_contours(edged_image, input_image)\n",
        "\n",
        "save_image_opencv(input_image, os.path.join(FILES_DIR, \"contoured_image2.png\"))\n"
      ],
      "metadata": {
        "id": "hz-zIm2gYSxq"
      },
      "execution_count": null,
      "outputs": []
    },
    {
      "cell_type": "code",
      "source": [
        "approximated_poly = approximated_poly.reshape(4, 2)\n",
        "rectangle = np.zeros((4, 2), dtype=\"float32\")\n",
        "                \n",
        "s = np.sum(approximated_poly, axis=1)\n",
        "rectangle[0] = approximated_poly[np.argmin(s)]\n",
        "rectangle[2] = approximated_poly[np.argmax(s)]\n",
        "\n",
        "diff = np.diff(approximated_poly, axis=1)\n",
        "rectangle[1] = approximated_poly[np.argmin(diff)]\n",
        "rectangle[3] = approximated_poly[np.argmax(diff)]\n",
        "\n",
        "(tl, tr, br, bl) = rectangle\n",
        "\n",
        "def calculate_max_width_height(tl, tr, br, bl):\n",
        "    width_a = np.sqrt((tl[0] - tr[0])**2 + (tl[1] - tr[1])**2 )\n",
        "    width_b = np.sqrt((bl[0] - br[0])**2 + (bl[1] - br[1])**2 )\n",
        "    max_width = max(int(width_a), int(width_b))\n",
        "\n",
        "    height_a = np.sqrt((tl[0] - bl[0])**2 + (tl[1] - bl[1])**2 )\n",
        "    height_b = np.sqrt((tr[0] - br[0])**2 + (tr[1] - br[1])**2 )\n",
        "    max_height = max(int(height_a), int(height_b))\n",
        "    \n",
        "    return max_width, max_height\n",
        "\n",
        "max_width, max_height = calculate_max_width_height(tl, tr, br, bl)"
      ],
      "metadata": {
        "id": "A3_jWRRPb_NJ"
      },
      "execution_count": null,
      "outputs": []
    },
    {
      "cell_type": "code",
      "source": [
        "destinations = np.array([\n",
        "        [0,0],\n",
        "        [max_width - 1, 0],\n",
        "        [max_width - 1, max_height - 1],\n",
        "        [0, max_height - 1]], dtype=\"float32\")\n",
        "\n",
        "transformation_matrix = cv2.getPerspectiveTransform(rectangle, destinations)\n",
        "\n",
        "def apply_transformation(image_instance, transformation_matrix, max_width, max_height):\n",
        "    scan = cv2.warpPerspective(image_instance, transformation_matrix, (max_width, max_height))\n",
        "    return scan\n",
        "\n",
        "scanned_image = apply_transformation(original_image, transformation_matrix, max_width, max_height)\n",
        "\n",
        "save_image_opencv(scanned_image, os.path.join(FILES_DIR, \"scanned_image2.png\"))"
      ],
      "metadata": {
        "id": "ukeyTAUIcYdB"
      },
      "execution_count": null,
      "outputs": []
    },
    {
      "cell_type": "code",
      "source": [
        "pytesseract.pytesseract.tesseract_cmd = (\n",
        "    r'/usr/bin/tesseract'\n",
        ")"
      ],
      "metadata": {
        "id": "KeRX1-aUnMBL"
      },
      "execution_count": null,
      "outputs": []
    },
    {
      "cell_type": "code",
      "source": [
        "image=cv2.imread('/content/scanned_image.png')\n",
        "image = cv2.resize(image, None, fx=0.6, fy=0.6, interpolation=cv2.INTER_AREA)\n",
        "gray_img = cv2.cvtColor(image, cv2.COLOR_BGR2GRAY)\n",
        "threshold_img = cv2.threshold(gray_img, 0, 255, cv2.THRESH_BINARY | cv2.THRESH_OTSU)[1]\n",
        "from google.colab.patches import cv2_imshow\n",
        "\n",
        "cv2_imshow(threshold_img)"
      ],
      "metadata": {
        "colab": {
          "base_uri": "https://localhost:8080/",
          "height": 706
        },
        "id": "CefoFuRQnxKR",
        "outputId": "6a1f8ebc-f5f4-404a-f50e-a3e383ced9ca"
      },
      "execution_count": null,
      "outputs": [
        {
          "output_type": "display_data",
          "data": {
            "text/plain": [
              "<PIL.Image.Image image mode=L size=329x689>"
            ],
            "image/png": "[encoded data removed]"
          },
          "metadata": {}
        }
      ]
    },
    {
      "cell_type": "code",
      "source": [
        "text = pytesseract.image_to_string(threshold_img)\n",
        "print(text)"
      ],
      "metadata": {
        "colab": {
          "base_uri": "https://localhost:8080/"
        },
        "id": "AKGsJZfl4c2_",
        "outputId": "45d98aec-e795-46bf-9089-9e5b1e5c0fae"
      },
      "execution_count": null,
      "outputs": [
        {
          "output_type": "stream",
          "name": "stdout",
          "text": [
            "Coffee By Di Bella— Cade\n",
            "11 Road— Mahim\n",
            "Coffes Dynamics Pvt Ltd\n",
            "Ground Floor, West Wind Buitding, Year Savarkar\n",
            "Marg, Mabie West, Munbai-1d\n",
            "9767190555\n",
            "customer feedbackticaffeebydibella.coa\n",
            "~TSIDE--\n",
            "\n",
            "   \n",
            "\n",
            "Date:06-08-2019\n",
            "Time:00:46\n",
            "Captain:rajesh275?\n",
            "Token Number 135\n",
            "\n",
            "  \n",
            "\n",
            "Trea Rate Cty Amount\n",
            "\n",
            " \n",
            "\n",
            "Oren Shake Large = 214.28 2 428.58\n",
            "\n",
            "Ferraro Rocher 295.24 1 285.24\n",
            "wattle\n",
            "Rocky Road Waffle 295.24 1 295.24\n",
            "\n",
            "Mater 50007 952-2 19.08\n",
            "\n",
            "6\n",
            "Sub Total: 1038.10\n",
            "GGST:2.5% 25.96\n",
            "\n",
            "SGST:2,58 75.95\n",
            "Total 8111; 1090.02\n",
            "\n",
            "Grell Total: tos0.00\n",
            "\n",
            "   \n",
            "\n",
            "“@STIN:~ 27aAgcoaz6RFaZG\n",
            "07/08/2019 Ot: 14:14\n",
            "\n",
            "illiped by TORS. Yer:3.2.10\n",
            "\n",
            " \n",
            "\f\n"
          ]
        }
      ]
    },
    {
      "cell_type": "code",
      "source": [
        "rm_list = list()"
      ],
      "metadata": {
        "id": "ZZAEgb_rIaow"
      },
      "execution_count": null,
      "outputs": []
    },
    {
      "cell_type": "code",
      "source": [
        "match=re.findall(r'\\d+[/.-]\\d+[/.-]\\d{4}', text)\n",
        "st=\" \"\n",
        "st=st.join(match)\n",
        "bill_date = st.split(\" \")[0]\n",
        "rm_list.append(bill_date)"
      ],
      "metadata": {
        "id": "rrfjLkDV4z9X"
      },
      "execution_count": null,
      "outputs": []
    },
    {
      "cell_type": "code",
      "source": [
        "nltk.download('punkt',quiet=True)\n",
        "nltk.download('wordnet',quiet=True)"
      ],
      "metadata": {
        "colab": {
          "base_uri": "https://localhost:8080/"
        },
        "id": "OHS-x4F45O-O",
        "outputId": "4839313a-0099-484b-add5-8aae4514573b"
      },
      "execution_count": null,
      "outputs": [
        {
          "output_type": "execute_result",
          "data": {
            "text/plain": [
              "True"
            ]
          },
          "metadata": {},
          "execution_count": 1150
        }
      ]
    },
    {
      "cell_type": "code",
      "source": [
        "sent_tokens=nltk.sent_tokenize(text)\n",
        "store_name = sent_tokens[0].splitlines()[0]\n",
        "rm_list.append(store_name)"
      ],
      "metadata": {
        "id": "apocCOPZ5X9P"
      },
      "execution_count": null,
      "outputs": []
    },
    {
      "cell_type": "code",
      "source": [
        "price=re.findall(\"[0-9]+\\.[0-9]+\",text)\n",
        "price = list(map(float,price)) \n",
        "bill_amount = max(price)"
      ],
      "metadata": {
        "id": "Ff5C3u355eiv"
      },
      "execution_count": null,
      "outputs": []
    },
    {
      "cell_type": "code",
      "source": [
        "i=1\n",
        "address = ''\n",
        "while True:\n",
        "  try:\n",
        "    st = sent_tokens[0].splitlines()[i]\n",
        "    match=re.findall(r'\\d{10}',st)\n",
        "    if len(match) == 0:\n",
        "      address += st + ' '\n",
        "      i+=1\n",
        "    else:\n",
        "      break\n",
        "  except:\n",
        "    break\n",
        "\n",
        "store_address = address\n",
        "rm_list.append(store_address)"
      ],
      "metadata": {
        "id": "jrKPXoT98cSJ"
      },
      "execution_count": null,
      "outputs": []
    },
    {
      "cell_type": "code",
      "source": [
        "nums = text.split(\"\\n\")\n",
        "bill_no = None\n",
        "check=[\"Bill Number\",\"Bill No\",\"Bill #\",\"Invoice Number\",\"Invoice No\",\"Invoice #\",\"Token Number\",\"Token No\",\"Token #\"]\n",
        "for i in range(0,len(nums)):\n",
        "  for s in check:\n",
        "    if s in nums[i]:\n",
        "      bill_no = nums[i]\n",
        "      break\n",
        "rm_list.append(bill_no)"
      ],
      "metadata": {
        "id": "Ahorr_46Do3h"
      },
      "execution_count": null,
      "outputs": []
    },
    {
      "cell_type": "code",
      "source": [
        "tokens = word_tokenize(text)"
      ],
      "metadata": {
        "id": "4ci93Xy-HTPj"
      },
      "execution_count": null,
      "outputs": []
    },
    {
      "cell_type": "code",
      "source": [
        "tokenizer = nltk.RegexpTokenizer(r\"\\w+\")\n",
        "new_words = tokenizer.tokenize(text)\n",
        "print(new_words)"
      ],
      "metadata": {
        "colab": {
          "base_uri": "https://localhost:8080/"
        },
        "id": "jj8pHfkNHog7",
        "outputId": "ed8e5e1f-37b6-47e7-809c-99befd9c7956"
      },
      "execution_count": null,
      "outputs": [
        {
          "output_type": "stream",
          "name": "stdout",
          "text": [
            "['Coffee', 'By', 'Di', 'Bella', 'Cade', '11', 'Road', 'Mahim', 'Coffes', 'Dynamics', 'Pvt', 'Ltd', 'Ground', 'Floor', 'West', 'Wind', 'Buitding', 'Year', 'Savarkar', 'Marg', 'Mabie', 'West', 'Munbai', '1d', '9767190555', 'customer', 'feedbackticaffeebydibella', 'coa', 'TSIDE', 'Date', '06', '08', '2019', 'Time', '00', '46', 'Captain', 'rajesh275', 'Token', 'Number', '135', 'Trea', 'Rate', 'Cty', 'Amount', 'Oren', 'Shake', 'Large', '214', '28', '2', '428', '58', 'Ferraro', 'Rocher', '295', '24', '1', '285', '24', 'wattle', 'Rocky', 'Road', 'Waffle', '295', '24', '1', '295', '24', 'Mater', '50007', '952', '2', '19', '08', '6', 'Sub', 'Total', '1038', '10', 'GGST', '2', '5', '25', '96', 'SGST', '2', '58', '75', '95', 'Total', '8111', '1090', '02', 'Grell', 'Total', 'tos0', '00', 'STIN', '27aAgcoaz6RFaZG', '07', '08', '2019', 'Ot', '14', '14', 'illiped', 'by', 'TORS', 'Yer', '3', '2', '10']\n"
          ]
        }
      ]
    },
    {
      "cell_type": "code",
      "source": [
        "nltk.download('stopwords')"
      ],
      "metadata": {
        "colab": {
          "base_uri": "https://localhost:8080/"
        },
        "id": "8AjGDxJOHpWJ",
        "outputId": "947b19a7-8957-4276-e6cd-a89eb4b6b4e8"
      },
      "execution_count": null,
      "outputs": [
        {
          "output_type": "stream",
          "name": "stdout",
          "text": [
            "[nltk_data] Downloading package stopwords to /root/nltk_data...\n",
            "[nltk_data]   Package stopwords is already up-to-date!\n"
          ]
        },
        {
          "output_type": "execute_result",
          "data": {
            "text/plain": [
              "True"
            ]
          },
          "metadata": {},
          "execution_count": 1157
        }
      ]
    },
    {
      "cell_type": "code",
      "source": [
        "stop_words = set(nltk.corpus.stopwords.words('english')) "
      ],
      "metadata": {
        "id": "O2fB5tRkHuW5"
      },
      "execution_count": null,
      "outputs": []
    },
    {
      "cell_type": "code",
      "source": [
        "filtered_list=[w for w in new_words if w not in stop_words ]\n",
        "print(filtered_list)"
      ],
      "metadata": {
        "colab": {
          "base_uri": "https://localhost:8080/"
        },
        "id": "JFfJoTMaHylR",
        "outputId": "ba6e342f-2539-464d-f36b-cefa34a83cc4"
      },
      "execution_count": null,
      "outputs": [
        {
          "output_type": "stream",
          "name": "stdout",
          "text": [
            "['Coffee', 'By', 'Di', 'Bella', 'Cade', '11', 'Road', 'Mahim', 'Coffes', 'Dynamics', 'Pvt', 'Ltd', 'Ground', 'Floor', 'West', 'Wind', 'Buitding', 'Year', 'Savarkar', 'Marg', 'Mabie', 'West', 'Munbai', '1d', '9767190555', 'customer', 'feedbackticaffeebydibella', 'coa', 'TSIDE', 'Date', '06', '08', '2019', 'Time', '00', '46', 'Captain', 'rajesh275', 'Token', 'Number', '135', 'Trea', 'Rate', 'Cty', 'Amount', 'Oren', 'Shake', 'Large', '214', '28', '2', '428', '58', 'Ferraro', 'Rocher', '295', '24', '1', '285', '24', 'wattle', 'Rocky', 'Road', 'Waffle', '295', '24', '1', '295', '24', 'Mater', '50007', '952', '2', '19', '08', '6', 'Sub', 'Total', '1038', '10', 'GGST', '2', '5', '25', '96', 'SGST', '2', '58', '75', '95', 'Total', '8111', '1090', '02', 'Grell', 'Total', 'tos0', '00', 'STIN', '27aAgcoaz6RFaZG', '07', '08', '2019', 'Ot', '14', '14', 'illiped', 'TORS', 'Yer', '3', '2', '10']\n"
          ]
        }
      ]
    },
    {
      "cell_type": "code",
      "source": [
        "print(\"\\nStore Name : \",store_name,\"\\nStore Address : \",store_address,\"\\nBill Date : \",bill_date,\"\\nInvoice Number : \",bill_no,\"\\nTotal Amount : \",bill_amount)"
      ],
      "metadata": {
        "colab": {
          "base_uri": "https://localhost:8080/"
        },
        "id": "Gpuv_A0iH22B",
        "outputId": "d9b7893a-a6b2-48d9-d257-f31ba060613f"
      },
      "execution_count": null,
      "outputs": [
        {
          "output_type": "stream",
          "name": "stdout",
          "text": [
            "\n",
            "Store Name :  Coffee By Di Bella— Cade \n",
            "Store Address :  11 Road— Mahim Coffes Dynamics Pvt Ltd Ground Floor, West Wind Buitding, Year Savarkar Marg, Mabie West, Munbai-1d  \n",
            "Bill Date :  06-08-2019 \n",
            "Invoice Number :  Token Number 135 \n",
            "Total Amount :  1090.02\n"
          ]
        }
      ]
    }
  ]
}